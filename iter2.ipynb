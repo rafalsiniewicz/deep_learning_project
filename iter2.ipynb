{
 "cells": [
  {
   "cell_type": "code",
   "execution_count": 1,
   "metadata": {},
   "outputs": [],
   "source": [
    "import pandas as pd\n",
    "import tensorflow as tf\n",
    "import numpy as np\n",
    "\n",
    "from tensorflow import feature_column\n",
    "from tensorflow.keras import layers\n",
    "from sklearn.model_selection import train_test_split"
   ]
  },
  {
   "cell_type": "code",
   "execution_count": 2,
   "metadata": {},
   "outputs": [],
   "source": [
    "DATAPATH = './data/games.csv'"
   ]
  },
  {
   "cell_type": "code",
   "execution_count": 3,
   "metadata": {},
   "outputs": [],
   "source": [
    "games = pd.read_csv(DATAPATH)"
   ]
  },
  {
   "cell_type": "code",
   "execution_count": 4,
   "metadata": {},
   "outputs": [
    {
     "data": {
      "text/plain": [
       "Unnamed: 0             int64\n",
       "SEASON_ID              int64\n",
       "TEAM_ID                int64\n",
       "TEAM_ABBREVIATION     object\n",
       "TEAM_NAME             object\n",
       "GAME_ID                int64\n",
       "GAME_DATE             object\n",
       "MATCHUP               object\n",
       "WL                    object\n",
       "MIN                    int64\n",
       "PTS                    int64\n",
       "FGM                    int64\n",
       "FGA                    int64\n",
       "FG_PCT               float64\n",
       "FG3M                   int64\n",
       "FG3A                   int64\n",
       "FG3_PCT              float64\n",
       "FTM                    int64\n",
       "FTA                    int64\n",
       "FT_PCT               float64\n",
       "OREB                   int64\n",
       "DREB                   int64\n",
       "REB                    int64\n",
       "AST                    int64\n",
       "STL                    int64\n",
       "BLK                    int64\n",
       "TOV                    int64\n",
       "PF                     int64\n",
       "PLUS_MINUS           float64\n",
       "dtype: object"
      ]
     },
     "execution_count": 4,
     "metadata": {},
     "output_type": "execute_result"
    }
   ],
   "source": [
    "games.dtypes"
   ]
  },
  {
   "cell_type": "code",
   "execution_count": 5,
   "metadata": {},
   "outputs": [],
   "source": [
    "games = games.drop(games.columns[0], axis=1)"
   ]
  },
  {
   "cell_type": "code",
   "execution_count": 6,
   "metadata": {},
   "outputs": [
    {
     "data": {
      "text/html": [
       "<div>\n",
       "<style scoped>\n",
       "    .dataframe tbody tr th:only-of-type {\n",
       "        vertical-align: middle;\n",
       "    }\n",
       "\n",
       "    .dataframe tbody tr th {\n",
       "        vertical-align: top;\n",
       "    }\n",
       "\n",
       "    .dataframe thead th {\n",
       "        text-align: right;\n",
       "    }\n",
       "</style>\n",
       "<table border=\"1\" class=\"dataframe\">\n",
       "  <thead>\n",
       "    <tr style=\"text-align: right;\">\n",
       "      <th></th>\n",
       "      <th>SEASON_ID</th>\n",
       "      <th>TEAM_ID</th>\n",
       "      <th>TEAM_ABBREVIATION</th>\n",
       "      <th>TEAM_NAME</th>\n",
       "      <th>GAME_ID</th>\n",
       "      <th>GAME_DATE</th>\n",
       "      <th>MATCHUP</th>\n",
       "      <th>WL</th>\n",
       "      <th>MIN</th>\n",
       "      <th>PTS</th>\n",
       "      <th>...</th>\n",
       "      <th>FT_PCT</th>\n",
       "      <th>OREB</th>\n",
       "      <th>DREB</th>\n",
       "      <th>REB</th>\n",
       "      <th>AST</th>\n",
       "      <th>STL</th>\n",
       "      <th>BLK</th>\n",
       "      <th>TOV</th>\n",
       "      <th>PF</th>\n",
       "      <th>PLUS_MINUS</th>\n",
       "    </tr>\n",
       "  </thead>\n",
       "  <tbody>\n",
       "    <tr>\n",
       "      <th>0</th>\n",
       "      <td>22019</td>\n",
       "      <td>1610612748</td>\n",
       "      <td>MIA</td>\n",
       "      <td>Miami Heat</td>\n",
       "      <td>21900970</td>\n",
       "      <td>2020-03-11</td>\n",
       "      <td>MIA vs. CHA</td>\n",
       "      <td>L</td>\n",
       "      <td>239</td>\n",
       "      <td>98</td>\n",
       "      <td>...</td>\n",
       "      <td>0.833</td>\n",
       "      <td>9</td>\n",
       "      <td>27</td>\n",
       "      <td>36</td>\n",
       "      <td>32</td>\n",
       "      <td>8</td>\n",
       "      <td>5</td>\n",
       "      <td>14</td>\n",
       "      <td>17</td>\n",
       "      <td>-13.0</td>\n",
       "    </tr>\n",
       "    <tr>\n",
       "      <th>1</th>\n",
       "      <td>22019</td>\n",
       "      <td>1610612743</td>\n",
       "      <td>DEN</td>\n",
       "      <td>Denver Nuggets</td>\n",
       "      <td>21900973</td>\n",
       "      <td>2020-03-11</td>\n",
       "      <td>DEN @ DAL</td>\n",
       "      <td>L</td>\n",
       "      <td>240</td>\n",
       "      <td>97</td>\n",
       "      <td>...</td>\n",
       "      <td>0.625</td>\n",
       "      <td>3</td>\n",
       "      <td>37</td>\n",
       "      <td>40</td>\n",
       "      <td>23</td>\n",
       "      <td>6</td>\n",
       "      <td>4</td>\n",
       "      <td>15</td>\n",
       "      <td>20</td>\n",
       "      <td>-7.8</td>\n",
       "    </tr>\n",
       "    <tr>\n",
       "      <th>2</th>\n",
       "      <td>22019</td>\n",
       "      <td>1610612752</td>\n",
       "      <td>NYK</td>\n",
       "      <td>New York Knicks</td>\n",
       "      <td>21900969</td>\n",
       "      <td>2020-03-11</td>\n",
       "      <td>NYK @ ATL</td>\n",
       "      <td>W</td>\n",
       "      <td>264</td>\n",
       "      <td>136</td>\n",
       "      <td>...</td>\n",
       "      <td>0.735</td>\n",
       "      <td>6</td>\n",
       "      <td>41</td>\n",
       "      <td>47</td>\n",
       "      <td>32</td>\n",
       "      <td>14</td>\n",
       "      <td>9</td>\n",
       "      <td>12</td>\n",
       "      <td>23</td>\n",
       "      <td>0.0</td>\n",
       "    </tr>\n",
       "    <tr>\n",
       "      <th>3</th>\n",
       "      <td>22019</td>\n",
       "      <td>1610612742</td>\n",
       "      <td>DAL</td>\n",
       "      <td>Dallas Mavericks</td>\n",
       "      <td>21900973</td>\n",
       "      <td>2020-03-11</td>\n",
       "      <td>DAL vs. DEN</td>\n",
       "      <td>W</td>\n",
       "      <td>240</td>\n",
       "      <td>113</td>\n",
       "      <td>...</td>\n",
       "      <td>0.739</td>\n",
       "      <td>13</td>\n",
       "      <td>39</td>\n",
       "      <td>52</td>\n",
       "      <td>23</td>\n",
       "      <td>9</td>\n",
       "      <td>2</td>\n",
       "      <td>10</td>\n",
       "      <td>14</td>\n",
       "      <td>8.0</td>\n",
       "    </tr>\n",
       "    <tr>\n",
       "      <th>4</th>\n",
       "      <td>22019</td>\n",
       "      <td>1610612765</td>\n",
       "      <td>DET</td>\n",
       "      <td>Detroit Pistons</td>\n",
       "      <td>21900971</td>\n",
       "      <td>2020-03-11</td>\n",
       "      <td>DET @ PHI</td>\n",
       "      <td>L</td>\n",
       "      <td>241</td>\n",
       "      <td>106</td>\n",
       "      <td>...</td>\n",
       "      <td>0.680</td>\n",
       "      <td>6</td>\n",
       "      <td>26</td>\n",
       "      <td>32</td>\n",
       "      <td>25</td>\n",
       "      <td>10</td>\n",
       "      <td>3</td>\n",
       "      <td>8</td>\n",
       "      <td>24</td>\n",
       "      <td>-14.2</td>\n",
       "    </tr>\n",
       "  </tbody>\n",
       "</table>\n",
       "<p>5 rows × 28 columns</p>\n",
       "</div>"
      ],
      "text/plain": [
       "   SEASON_ID     TEAM_ID TEAM_ABBREVIATION         TEAM_NAME   GAME_ID  \\\n",
       "0      22019  1610612748               MIA        Miami Heat  21900970   \n",
       "1      22019  1610612743               DEN    Denver Nuggets  21900973   \n",
       "2      22019  1610612752               NYK   New York Knicks  21900969   \n",
       "3      22019  1610612742               DAL  Dallas Mavericks  21900973   \n",
       "4      22019  1610612765               DET   Detroit Pistons  21900971   \n",
       "\n",
       "    GAME_DATE      MATCHUP WL  MIN  PTS  ...  FT_PCT  OREB  DREB  REB  AST  \\\n",
       "0  2020-03-11  MIA vs. CHA  L  239   98  ...   0.833     9    27   36   32   \n",
       "1  2020-03-11    DEN @ DAL  L  240   97  ...   0.625     3    37   40   23   \n",
       "2  2020-03-11    NYK @ ATL  W  264  136  ...   0.735     6    41   47   32   \n",
       "3  2020-03-11  DAL vs. DEN  W  240  113  ...   0.739    13    39   52   23   \n",
       "4  2020-03-11    DET @ PHI  L  241  106  ...   0.680     6    26   32   25   \n",
       "\n",
       "   STL  BLK  TOV  PF  PLUS_MINUS  \n",
       "0    8    5   14  17       -13.0  \n",
       "1    6    4   15  20        -7.8  \n",
       "2   14    9   12  23         0.0  \n",
       "3    9    2   10  14         8.0  \n",
       "4   10    3    8  24       -14.2  \n",
       "\n",
       "[5 rows x 28 columns]"
      ]
     },
     "execution_count": 6,
     "metadata": {},
     "output_type": "execute_result"
    }
   ],
   "source": [
    "games.head()"
   ]
  },
  {
   "cell_type": "code",
   "execution_count": 7,
   "metadata": {},
   "outputs": [],
   "source": [
    "def df_to_dataset(dataframe, shuffle=True, batch_size=32):\n",
    "    dataframe = dataframe.copy()\n",
    "    labels = dataframe.pop('WL')\n",
    "    ds = tf.data.Dataset.from_tensor_slices((dataframe.values, labels.values))\n",
    "    if shuffle:\n",
    "        ds = ds.shuffle(buffer_size = len(dataframe))\n",
    "    ds = ds.batch(batch_size)\n",
    "    return ds"
   ]
  },
  {
   "cell_type": "code",
   "execution_count": 8,
   "metadata": {},
   "outputs": [
    {
     "data": {
      "text/plain": [
       "0        21900970\n",
       "1        21900973\n",
       "2        21900969\n",
       "3        21900973\n",
       "4        21900971\n",
       "           ...   \n",
       "29995    40800221\n",
       "29996    40800211\n",
       "29997    40800231\n",
       "29998    40800137\n",
       "29999    40800137\n",
       "Name: GAME_ID, Length: 30000, dtype: int64"
      ]
     },
     "execution_count": 8,
     "metadata": {},
     "output_type": "execute_result"
    }
   ],
   "source": [
    "games.pop('SEASON_ID')\n",
    "games.pop('TEAM_ID')\n",
    "games.pop('GAME_ID')"
   ]
  },
  {
   "cell_type": "code",
   "execution_count": 9,
   "metadata": {},
   "outputs": [],
   "source": [
    "feature_columns = []\n",
    "obj_columns = ['TEAM_ABBREVIATION', 'TEAM_NAME', 'GAME_DATE', 'MATCHUP', 'WL']\n",
    "#numeric columns\n",
    "for i in obj_columns:\n",
    "    games[i] = pd.Categorical(games[i])\n",
    "    games[i] = games[i].cat.codes \n",
    "for header in games.columns:\n",
    "    games[header] = games[header].astype('float64')\n",
    "    if header != 'WL':\n",
    "        feature_columns.append(feature_column.numeric_column(header))"
   ]
  },
  {
   "cell_type": "code",
   "execution_count": 10,
   "metadata": {},
   "outputs": [
    {
     "data": {
      "text/plain": [
       "TEAM_ABBREVIATION    float64\n",
       "TEAM_NAME            float64\n",
       "GAME_DATE            float64\n",
       "MATCHUP              float64\n",
       "WL                   float64\n",
       "MIN                  float64\n",
       "PTS                  float64\n",
       "FGM                  float64\n",
       "FGA                  float64\n",
       "FG_PCT               float64\n",
       "FG3M                 float64\n",
       "FG3A                 float64\n",
       "FG3_PCT              float64\n",
       "FTM                  float64\n",
       "FTA                  float64\n",
       "FT_PCT               float64\n",
       "OREB                 float64\n",
       "DREB                 float64\n",
       "REB                  float64\n",
       "AST                  float64\n",
       "STL                  float64\n",
       "BLK                  float64\n",
       "TOV                  float64\n",
       "PF                   float64\n",
       "PLUS_MINUS           float64\n",
       "dtype: object"
      ]
     },
     "execution_count": 10,
     "metadata": {},
     "output_type": "execute_result"
    }
   ],
   "source": [
    "games.dtypes"
   ]
  },
  {
   "cell_type": "code",
   "execution_count": 11,
   "metadata": {},
   "outputs": [
    {
     "name": "stdout",
     "output_type": "stream",
     "text": [
      "[NumericColumn(key='TEAM_ABBREVIATION', shape=(1,), default_value=None, dtype=tf.float32, normalizer_fn=None), NumericColumn(key='TEAM_NAME', shape=(1,), default_value=None, dtype=tf.float32, normalizer_fn=None), NumericColumn(key='GAME_DATE', shape=(1,), default_value=None, dtype=tf.float32, normalizer_fn=None), NumericColumn(key='MATCHUP', shape=(1,), default_value=None, dtype=tf.float32, normalizer_fn=None), NumericColumn(key='MIN', shape=(1,), default_value=None, dtype=tf.float32, normalizer_fn=None), NumericColumn(key='PTS', shape=(1,), default_value=None, dtype=tf.float32, normalizer_fn=None), NumericColumn(key='FGM', shape=(1,), default_value=None, dtype=tf.float32, normalizer_fn=None), NumericColumn(key='FGA', shape=(1,), default_value=None, dtype=tf.float32, normalizer_fn=None), NumericColumn(key='FG_PCT', shape=(1,), default_value=None, dtype=tf.float32, normalizer_fn=None), NumericColumn(key='FG3M', shape=(1,), default_value=None, dtype=tf.float32, normalizer_fn=None), NumericColumn(key='FG3A', shape=(1,), default_value=None, dtype=tf.float32, normalizer_fn=None), NumericColumn(key='FG3_PCT', shape=(1,), default_value=None, dtype=tf.float32, normalizer_fn=None), NumericColumn(key='FTM', shape=(1,), default_value=None, dtype=tf.float32, normalizer_fn=None), NumericColumn(key='FTA', shape=(1,), default_value=None, dtype=tf.float32, normalizer_fn=None), NumericColumn(key='FT_PCT', shape=(1,), default_value=None, dtype=tf.float32, normalizer_fn=None), NumericColumn(key='OREB', shape=(1,), default_value=None, dtype=tf.float32, normalizer_fn=None), NumericColumn(key='DREB', shape=(1,), default_value=None, dtype=tf.float32, normalizer_fn=None), NumericColumn(key='REB', shape=(1,), default_value=None, dtype=tf.float32, normalizer_fn=None), NumericColumn(key='AST', shape=(1,), default_value=None, dtype=tf.float32, normalizer_fn=None), NumericColumn(key='STL', shape=(1,), default_value=None, dtype=tf.float32, normalizer_fn=None), NumericColumn(key='BLK', shape=(1,), default_value=None, dtype=tf.float32, normalizer_fn=None), NumericColumn(key='TOV', shape=(1,), default_value=None, dtype=tf.float32, normalizer_fn=None), NumericColumn(key='PF', shape=(1,), default_value=None, dtype=tf.float32, normalizer_fn=None), NumericColumn(key='PLUS_MINUS', shape=(1,), default_value=None, dtype=tf.float32, normalizer_fn=None)]\n"
     ]
    }
   ],
   "source": [
    "print(feature_columns)"
   ]
  },
  {
   "cell_type": "code",
   "execution_count": 12,
   "metadata": {},
   "outputs": [],
   "source": [
    "feature_layer = tf.keras.layers.DenseFeatures(feature_columns)"
   ]
  },
  {
   "cell_type": "code",
   "execution_count": 13,
   "metadata": {},
   "outputs": [
    {
     "name": "stdout",
     "output_type": "stream",
     "text": [
      "19200 train examples\n",
      "4800 validation examples\n",
      "6000 test examples\n"
     ]
    }
   ],
   "source": [
    "train, test = train_test_split(games, test_size=0.2)\n",
    "train, val = train_test_split(train, test_size=0.2)\n",
    "print(len(train), 'train examples')\n",
    "print(len(val), 'validation examples')\n",
    "print(len(test), 'test examples')"
   ]
  },
  {
   "cell_type": "code",
   "execution_count": 14,
   "metadata": {},
   "outputs": [],
   "source": [
    "batch_size = 32\n",
    "train_ds = df_to_dataset(train, batch_size=batch_size)\n",
    "val_ds = df_to_dataset(val, shuffle=False, batch_size=batch_size)\n",
    "test_ds = df_to_dataset(test, shuffle=False, batch_size=batch_size)\n"
   ]
  },
  {
   "cell_type": "code",
   "execution_count": 15,
   "metadata": {},
   "outputs": [],
   "source": [
    "def get_compiled_model():\n",
    "  model = tf.keras.Sequential([\n",
    "    tf.keras.layers.Dense(256, activation='relu'),\n",
    "    tf.keras.layers.Dense(256, activation='relu'),\n",
    "    tf.keras.layers.Dense(256, activation='relu'),\n",
    "    tf.keras.layers.Dense(1, activation='relu')\n",
    "  ])\n",
    "\n",
    "  model.compile(optimizer='adam',\n",
    "                loss=tf.keras.losses.BinaryCrossentropy(from_logits=True),\n",
    "                metrics=['accuracy'])\n",
    "  return model"
   ]
  },
  {
   "cell_type": "code",
   "execution_count": 17,
   "metadata": {},
   "outputs": [
    {
     "name": "stdout",
     "output_type": "stream",
     "text": [
      "Train for 600 steps\n",
      "Epoch 1/30\n",
      "600/600 [==============================] - 3s 4ms/step - loss: nan - accuracy: 0.4983\n",
      "Epoch 2/30\n",
      "600/600 [==============================] - 2s 4ms/step - loss: nan - accuracy: 0.4978\n",
      "Epoch 3/30\n",
      "600/600 [==============================] - 2s 4ms/step - loss: nan - accuracy: 0.4978\n",
      "Epoch 4/30\n",
      "600/600 [==============================] - 2s 4ms/step - loss: nan - accuracy: 0.4978\n",
      "Epoch 5/30\n",
      "600/600 [==============================] - 2s 4ms/step - loss: nan - accuracy: 0.4978\n",
      "Epoch 6/30\n",
      "600/600 [==============================] - 2s 4ms/step - loss: nan - accuracy: 0.4978\n",
      "Epoch 7/30\n",
      "600/600 [==============================] - 2s 4ms/step - loss: nan - accuracy: 0.4978\n",
      "Epoch 8/30\n",
      "600/600 [==============================] - 2s 4ms/step - loss: nan - accuracy: 0.4978\n",
      "Epoch 9/30\n",
      "600/600 [==============================] - 3s 5ms/step - loss: nan - accuracy: 0.4978\n",
      "Epoch 10/30\n",
      "600/600 [==============================] - 3s 5ms/step - loss: nan - accuracy: 0.4978\n",
      "Epoch 11/30\n",
      "600/600 [==============================] - 3s 6ms/step - loss: nan - accuracy: 0.4978\n",
      "Epoch 12/30\n",
      "600/600 [==============================] - 3s 6ms/step - loss: nan - accuracy: 0.4978\n",
      "Epoch 13/30\n",
      "600/600 [==============================] - 3s 5ms/step - loss: nan - accuracy: 0.4978\n",
      "Epoch 14/30\n",
      "600/600 [==============================] - 3s 6ms/step - loss: nan - accuracy: 0.4978\n",
      "Epoch 15/30\n",
      "600/600 [==============================] - 2s 4ms/step - loss: nan - accuracy: 0.4978\n",
      "Epoch 16/30\n",
      "600/600 [==============================] - 2s 4ms/step - loss: nan - accuracy: 0.4978\n",
      "Epoch 17/30\n",
      "600/600 [==============================] - 2s 4ms/step - loss: nan - accuracy: 0.4978\n",
      "Epoch 18/30\n",
      "600/600 [==============================] - 2s 4ms/step - loss: nan - accuracy: 0.4978\n",
      "Epoch 19/30\n",
      "600/600 [==============================] - 2s 4ms/step - loss: nan - accuracy: 0.4978\n",
      "Epoch 20/30\n",
      "600/600 [==============================] - 2s 4ms/step - loss: nan - accuracy: 0.4978\n",
      "Epoch 21/30\n",
      "600/600 [==============================] - 2s 4ms/step - loss: nan - accuracy: 0.4978\n",
      "Epoch 22/30\n",
      "600/600 [==============================] - 2s 4ms/step - loss: nan - accuracy: 0.4978\n",
      "Epoch 23/30\n",
      "600/600 [==============================] - 2s 4ms/step - loss: nan - accuracy: 0.4978\n",
      "Epoch 24/30\n",
      "600/600 [==============================] - 2s 4ms/step - loss: nan - accuracy: 0.4978\n",
      "Epoch 25/30\n",
      "600/600 [==============================] - 2s 4ms/step - loss: nan - accuracy: 0.4978\n",
      "Epoch 26/30\n",
      "600/600 [==============================] - 2s 4ms/step - loss: nan - accuracy: 0.4978\n",
      "Epoch 27/30\n",
      "600/600 [==============================] - 2s 4ms/step - loss: nan - accuracy: 0.4978\n",
      "Epoch 28/30\n",
      "600/600 [==============================] - 2s 4ms/step - loss: nan - accuracy: 0.4978\n",
      "Epoch 29/30\n",
      "600/600 [==============================] - 2s 4ms/step - loss: nan - accuracy: 0.4978\n",
      "Epoch 30/30\n",
      "600/600 [==============================] - 2s 4ms/step - loss: nan - accuracy: 0.4978\n"
     ]
    },
    {
     "data": {
      "text/plain": [
       "<tensorflow.python.keras.callbacks.History at 0x20523ccbeb8>"
      ]
     },
     "execution_count": 17,
     "metadata": {},
     "output_type": "execute_result"
    }
   ],
   "source": [
    "model = get_compiled_model()\n",
    "model.fit(train_ds, epochs=30)"
   ]
  },
  {
   "cell_type": "code",
   "execution_count": null,
   "metadata": {},
   "outputs": [],
   "source": []
  }
 ],
 "metadata": {
  "kernelspec": {
   "display_name": "Python 3",
   "language": "python",
   "name": "python3"
  },
  "language_info": {
   "codemirror_mode": {
    "name": "ipython",
    "version": 3
   },
   "file_extension": ".py",
   "mimetype": "text/x-python",
   "name": "python",
   "nbconvert_exporter": "python",
   "pygments_lexer": "ipython3",
   "version": "3.6.10"
  }
 },
 "nbformat": 4,
 "nbformat_minor": 4
}
